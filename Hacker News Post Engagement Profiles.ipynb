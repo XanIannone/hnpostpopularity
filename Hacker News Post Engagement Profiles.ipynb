{
 "cells": [
  {
   "cell_type": "markdown",
   "id": "7588e6e4",
   "metadata": {},
   "source": [
    "# What Makes a Successful Hacker News Post? \n",
    "## The Most Succesful Hacker News Post Engagement Profiles\n",
    "\n",
    "**Analyzing 12 months of posts across 2016 (265k+ entries)**\n",
    "\n",
    "The goal of this project is to see which types of post (\"Ask HN\"/\"Show HN\"), and which types of day get the most post engagement on Hacker News. We will be using [this](https://www.kaggle.com/datasets/hacker-news/hacker-news-posts?resource=download) dataset numbering over 265k entries."
   ]
  },
  {
   "cell_type": "markdown",
   "id": "2341e2d4",
   "metadata": {},
   "source": [
    "### Prerequisites"
   ]
  },
  {
   "cell_type": "markdown",
   "id": "b61572cc",
   "metadata": {},
   "source": [
    "Opening and Sorting Our Data"
   ]
  },
  {
   "cell_type": "code",
   "execution_count": 1,
   "id": "d09f04cf",
   "metadata": {},
   "outputs": [],
   "source": [
    "from csv import reader\n",
    "openfile = open(\"hn_posts.csv\", encoding=\"utf8\")\n",
    "readfile = reader(openfile)\n",
    "hn = list(readfile)\n",
    "openfile.close()"
   ]
  },
  {
   "cell_type": "markdown",
   "id": "faa406d8",
   "metadata": {},
   "source": [
    "Seperating The Header Row From The Main Data"
   ]
  },
  {
   "cell_type": "code",
   "execution_count": 2,
   "id": "e35843b4",
   "metadata": {},
   "outputs": [],
   "source": [
    "header = hn[0]\n",
    "hn = hn[1:]"
   ]
  },
  {
   "cell_type": "code",
   "execution_count": 3,
   "id": "3846d6a2",
   "metadata": {},
   "outputs": [
    {
     "name": "stdout",
     "output_type": "stream",
     "text": [
      "['id', 'title', 'url', 'num_points', 'num_comments', 'author', 'created_at']\n",
      "\n",
      "\n",
      "[['12579008', 'You have two days to comment if you want stem cells to be classified as your own', 'http://www.regulations.gov/document?D=FDA-2015-D-3719-0018', '1', '0', 'altstar', '9/26/2016 3:26'], ['12579005', 'SQLAR  the SQLite Archiver', 'https://www.sqlite.org/sqlar/doc/trunk/README.md', '1', '0', 'blacksqr', '9/26/2016 3:24'], ['12578997', 'What if we just printed a flatscreen television on the side of our boxes?', 'https://medium.com/vanmoof/our-secrets-out-f21c1f03fdc8#.ietxmez43', '1', '0', 'pavel_lishin', '9/26/2016 3:19']]\n"
     ]
    }
   ],
   "source": [
    "print(header)\n",
    "print(\"\\n\")\n",
    "print(hn[0:3])"
   ]
  },
  {
   "cell_type": "markdown",
   "id": "bb2b60c5",
   "metadata": {},
   "source": [
    "### Finding The Total and Average Comment Counts Between \"Ask HN\" and \"Show HN\" Posts"
   ]
  },
  {
   "cell_type": "markdown",
   "id": "87d1afeb",
   "metadata": {},
   "source": [
    "Seperating \"Ask HN\" and \"Show HN\" Posts In to Their Own Lists"
   ]
  },
  {
   "cell_type": "code",
   "execution_count": 4,
   "id": "cfbbe2cb",
   "metadata": {},
   "outputs": [],
   "source": [
    "ask_posts = []\n",
    "show_posts = []\n",
    "other_posts = []\n",
    "\n",
    "for row in hn:\n",
    "    title = row[1]\n",
    "    if title.lower().startswith(\"ask hn\"):\n",
    "        ask_posts.append(row)\n",
    "    elif title.lower().startswith(\"show hn\"):\n",
    "        show_posts.append(row)\n",
    "    else:\n",
    "        other_posts.append(row)"
   ]
  },
  {
   "cell_type": "code",
   "execution_count": 5,
   "id": "64f3335c",
   "metadata": {},
   "outputs": [],
   "source": [
    "ask_posts=[]\n",
    "show_posts=[]\n",
    "other_posts=[]\n",
    "for row in hn:\n",
    "    title = row[1]\n",
    "    if title.lower().startswith(\"ask hn\"):\n",
    "        ask_posts.append(row)\n",
    "    elif title.lower().startswith(\"show hn\"):\n",
    "        show_posts.append(row)\n",
    "    else:\n",
    "        other_posts.append(row)"
   ]
  },
  {
   "cell_type": "markdown",
   "id": "1fcd6b65",
   "metadata": {},
   "source": [
    "Checking List Lengths"
   ]
  },
  {
   "cell_type": "code",
   "execution_count": 6,
   "id": "e78b514d",
   "metadata": {},
   "outputs": [
    {
     "name": "stdout",
     "output_type": "stream",
     "text": [
      "\"Ask HN\" Posts 9139\n",
      "\"Show HN\" Posts 10158\n",
      "\"Other\" Posts 273822\n"
     ]
    }
   ],
   "source": [
    "print(\"\\\"Ask HN\\\" Posts\", len(ask_posts))\n",
    "print(\"\\\"Show HN\\\" Posts\", len(show_posts))\n",
    "print(\"\\\"Other\\\" Posts\", len(other_posts))"
   ]
  },
  {
   "cell_type": "markdown",
   "id": "de2ff164",
   "metadata": {},
   "source": [
    "Finding The Total and Average Comment Counts"
   ]
  },
  {
   "cell_type": "code",
   "execution_count": 7,
   "id": "7f58bad5",
   "metadata": {},
   "outputs": [
    {
     "name": "stdout",
     "output_type": "stream",
     "text": [
      "Total \"Ask HN\" Comments 94986\n",
      "Average \"Ask HN\" Comments 10.393478498741656\n",
      "\n",
      "\n",
      "Total \"Show HN\" Comments 49633\n",
      "Average \"Show HN\" Comments 4.886099625910612\n"
     ]
    }
   ],
   "source": [
    "#Ask HN\n",
    "total_ask_comments = 0\n",
    "\n",
    "for row in ask_posts:\n",
    "    commentnum = int(row[4])\n",
    "    total_ask_comments += commentnum\n",
    "    \n",
    "avg_ask_comments = total_ask_comments / len(ask_posts)\n",
    "print(\"Total \\\"Ask HN\\\" Comments\", (total_ask_comments))\n",
    "print(\"Average \\\"Ask HN\\\" Comments\", avg_ask_comments)\n",
    "\n",
    "print(\"\\n\")\n",
    "\n",
    "#Show HN\n",
    "total_show_comments = 0\n",
    "\n",
    "for row in show_posts:\n",
    "    commentnum = int(row[4])\n",
    "    total_show_comments += commentnum\n",
    "\n",
    "avg_show_comments = total_show_comments / len(show_posts)\n",
    "print(\"Total \\\"Show HN\\\" Comments\", (total_show_comments))\n",
    "print(\"Average \\\"Show HN\\\" Comments\", avg_show_comments)\n"
   ]
  },
  {
   "cell_type": "markdown",
   "id": "0b7d754c",
   "metadata": {},
   "source": [
    "We see above that the \"Ask HN\" category has nearly double the total comments, and more than double the average comments. With this in mind, We'll focus on only the \"Ask HN\" category, and look in to the prime time(s) of day to post."
   ]
  },
  {
   "cell_type": "markdown",
   "id": "ebe2b8c0",
   "metadata": {},
   "source": [
    "### Finding The Most Succesful Times Of Day\n",
    "**(Focusing Only On \"Ask HN\" Posts)**"
   ]
  },
  {
   "cell_type": "markdown",
   "id": "c5d48d98",
   "metadata": {},
   "source": [
    "Seperating The Time and Comment Count Categories Into Their Own List"
   ]
  },
  {
   "cell_type": "code",
   "execution_count": 8,
   "id": "07adec1e",
   "metadata": {},
   "outputs": [
    {
     "name": "stdout",
     "output_type": "stream",
     "text": [
      "[['9/26/2016 2:53', 7], ['9/26/2016 1:17', 3], ['9/25/2016 22:57', 0]]\n"
     ]
    }
   ],
   "source": [
    "import datetime as dt\n",
    "result_list = []\n",
    "\n",
    "for row in ask_posts:\n",
    "    time_posted = row[6]\n",
    "    comment_num = int(row[4])\n",
    "    result_list.append([time_posted, comment_num])\n",
    "    \n",
    "print(result_list[0:3])"
   ]
  },
  {
   "cell_type": "markdown",
   "id": "2d44f365",
   "metadata": {},
   "source": [
    "Sorting Each Hour Into a Dictionary and Finding Their Total Comment Counts"
   ]
  },
  {
   "cell_type": "code",
   "execution_count": 9,
   "id": "d7545b66",
   "metadata": {},
   "outputs": [],
   "source": [
    "counts_by_hour = {}\n",
    "comments_by_hour = {}\n",
    "\n",
    "for row in result_list:\n",
    "    time_dt = dt.datetime.strptime(row[0], \"%m/%d/%Y %H:%M\")\n",
    "    hour = time_dt.strftime(\"%H\")\n",
    "    if hour not in counts_by_hour:\n",
    "        counts_by_hour[hour] = 1\n",
    "        comments_by_hour[hour] = row[1]\n",
    "    else:\n",
    "        counts_by_hour[hour] += 1\n",
    "        comments_by_hour[hour] += row[1]     "
   ]
  },
  {
   "cell_type": "markdown",
   "id": "2e84ced7",
   "metadata": {},
   "source": [
    "Total Post Counts Across Each Hour"
   ]
  },
  {
   "cell_type": "code",
   "execution_count": 10,
   "id": "c1903f6a",
   "metadata": {},
   "outputs": [
    {
     "name": "stdout",
     "output_type": "stream",
     "text": [
      "{'02': 269, '01': 282, '22': 383, '21': 518, '19': 552, '17': 587, '15': 646, '14': 513, '13': 444, '11': 312, '10': 282, '09': 222, '07': 226, '03': 271, '23': 343, '20': 510, '16': 579, '08': 257, '00': 301, '18': 614, '12': 342, '04': 243, '06': 234, '05': 209}\n"
     ]
    }
   ],
   "source": [
    "print(counts_by_hour) #not sorted"
   ]
  },
  {
   "cell_type": "markdown",
   "id": "f0f28b58",
   "metadata": {},
   "source": [
    "Total Comment Counts Across Each Hour"
   ]
  },
  {
   "cell_type": "code",
   "execution_count": 14,
   "id": "cf6c016a",
   "metadata": {},
   "outputs": [
    {
     "name": "stdout",
     "output_type": "stream",
     "text": [
      "{'02': 2996, '01': 2089, '22': 3372, '21': 4500, '19': 3954, '17': 5547, '15': 18525, '14': 4972, '13': 7245, '11': 2797, '10': 3013, '09': 1477, '07': 1585, '03': 2154, '23': 2297, '20': 4462, '16': 4466, '08': 2362, '00': 2277, '18': 4877, '12': 4234, '04': 2360, '06': 1587, '05': 1838}\n"
     ]
    }
   ],
   "source": [
    "print(comments_by_hour) #not sorted"
   ]
  },
  {
   "cell_type": "markdown",
   "id": "fb5e18fc",
   "metadata": {},
   "source": [
    "Calculating The Average Comment Counts of Each Hour and Ranking"
   ]
  },
  {
   "cell_type": "code",
   "execution_count": 12,
   "id": "87f82d8a",
   "metadata": {},
   "outputs": [],
   "source": [
    "avg_by_hour = []\n",
    "\n",
    "for hour in comments_by_hour:\n",
    "    avg_by_hour.append([comments_by_hour[hour]/counts_by_hour[hour], hour])\n",
    "    \n",
    "sorted_data = sorted(avg_by_hour, reverse = True)"
   ]
  },
  {
   "cell_type": "code",
   "execution_count": 13,
   "id": "04df7fcf",
   "metadata": {},
   "outputs": [
    {
     "name": "stdout",
     "output_type": "stream",
     "text": [
      "Top 5 Hacker News Posting Hours (EST): \n",
      "15:00 28.68 avg comments\n",
      "13:00 16.32 avg comments\n",
      "12:00 12.38 avg comments\n",
      "02:00 11.14 avg comments\n",
      "10:00 10.68 avg comments\n"
     ]
    }
   ],
   "source": [
    "print(\"Top 5 Hacker News Posting Hours (EST): \")\n",
    "\n",
    "for avg,h in sorted_data[:5]:\n",
    "    time = dt.datetime.strptime(h,\"%H\").strftime(\"%H:%M\")\n",
    "    print(time, \"{:.2f} avg comments\".format(avg))"
   ]
  },
  {
   "cell_type": "markdown",
   "id": "5b31763c",
   "metadata": {},
   "source": [
    "With our final ranking, we can see that noon (12:00 - 15:00 or 12 PM - 3 PM) is the most popular time to post, with 2:00 and 10:00 as the runnerups in 4th and 5th."
   ]
  },
  {
   "cell_type": "markdown",
   "id": "d62f5a8d",
   "metadata": {},
   "source": [
    "## Summary and Conclusion\n"
   ]
  },
  {
   "cell_type": "markdown",
   "id": "747b9863",
   "metadata": {},
   "source": [
    "In this project we found that the \"Ask HN\" category has nearly double the average comment count with 94,986 comments compared to the 49,633 total comments in the \"Show HN\" category, and also has 10.31 average comments, over double than that of the \"Show HN\" category with 4.88 average comments, meaning that the \"Ask HN\" category is significantly more successful than \"Show HN\" on Hacker News.\n",
    "\n",
    "In this project we also found that the most popular hours of the day to post on Hacker News are 15:00 (3 PM) with 28.68 average  comments, 13:00 (1 PM) with 16.32 average comments, 12:00 (12 PM) with 12.38 average comments, 2:00 (2 AM) with 11.14 average comments, and 10:00 (10 AM) with 10.68 average comments.\n",
    "\n",
    "This leads to our conclusion, the most popular type of post on Hacker News is an \"Ask HN\" post, posted between 12:00 and 15:00. Posts created at 2:00 are also quite successful, this could be the personal preference waking time of Hacker News users, but it's most likely just a regional time difference."
   ]
  }
 ],
 "metadata": {
  "kernelspec": {
   "display_name": "Python 3 (ipykernel)",
   "language": "python",
   "name": "python3"
  },
  "language_info": {
   "codemirror_mode": {
    "name": "ipython",
    "version": 3
   },
   "file_extension": ".py",
   "mimetype": "text/x-python",
   "name": "python",
   "nbconvert_exporter": "python",
   "pygments_lexer": "ipython3",
   "version": "3.9.13"
  }
 },
 "nbformat": 4,
 "nbformat_minor": 5
}
